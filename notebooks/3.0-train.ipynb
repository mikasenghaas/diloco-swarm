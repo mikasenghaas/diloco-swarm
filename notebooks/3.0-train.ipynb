{
 "cells": [
  {
   "cell_type": "markdown",
   "metadata": {},
   "source": [
    "# 📈 Checkpointing\n",
    "\n",
    "This notebook shows how to train a model and load it from a checkpoint."
   ]
  },
  {
   "cell_type": "markdown",
   "metadata": {},
   "source": [
    "## Setup "
   ]
  },
  {
   "cell_type": "code",
   "execution_count": null,
   "metadata": {},
   "outputs": [],
   "source": [
    "import autorootcwd"
   ]
  },
  {
   "cell_type": "code",
   "execution_count": null,
   "metadata": {},
   "outputs": [],
   "source": [
    "import math\n",
    "import numpy as np\n",
    "import matplotlib.pyplot as plt"
   ]
  },
  {
   "cell_type": "markdown",
   "metadata": {},
   "source": [
    "## Learning Rate Scheduler"
   ]
  },
  {
   "cell_type": "code",
   "execution_count": null,
   "metadata": {},
   "outputs": [],
   "source": [
    "def lr_lambda(step, warmup_steps, num_steps, num_cycles, min_lr_factor):\n",
    "    if step < warmup_steps:\n",
    "        return step / max(1, warmup_steps)\n",
    "    progress = (step - warmup_steps) / max(1, num_steps - warmup_steps)\n",
    "    cosine_decay = 0.5 * (1.0 + math.cos(math.pi * num_cycles * 2.0 * progress))\n",
    "    return min_lr_factor + (1 - min_lr_factor) * cosine_decay\n",
    "\n",
    "steps = 1000\n",
    "xs = np.arange(0, steps)\n",
    "plt.plot(xs, [lr_lambda(x, 100, steps, 0.5, 0.1) for x in xs])\n",
    "plt.show()"
   ]
  }
 ],
 "metadata": {
  "kernelspec": {
   "display_name": "swarm",
   "language": "python",
   "name": "python3"
  },
  "language_info": {
   "codemirror_mode": {
    "name": "ipython",
    "version": 3
   },
   "file_extension": ".py",
   "mimetype": "text/x-python",
   "name": "python",
   "nbconvert_exporter": "python",
   "pygments_lexer": "ipython3",
   "version": "3.10.15"
  }
 },
 "nbformat": 4,
 "nbformat_minor": 2
}
