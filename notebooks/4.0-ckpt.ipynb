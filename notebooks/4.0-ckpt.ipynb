{
 "cells": [
  {
   "cell_type": "markdown",
   "metadata": {},
   "source": [
    "# 📈 Checkpointing\n",
    "\n",
    "This notebook explores some aspects of training a model, and optimising for performance."
   ]
  },
  {
   "cell_type": "markdown",
   "metadata": {},
   "source": [
    "## Setup "
   ]
  },
  {
   "cell_type": "code",
   "execution_count": 70,
   "metadata": {},
   "outputs": [],
   "source": [
    "import autorootcwd"
   ]
  },
  {
   "cell_type": "code",
   "execution_count": 71,
   "metadata": {},
   "outputs": [
    {
     "name": "stdout",
     "output_type": "stream",
     "text": [
      "The autoreload extension is already loaded. To reload it, use:\n",
      "  %reload_ext autoreload\n"
     ]
    }
   ],
   "source": [
    "%load_ext autoreload\n",
    "%autoreload 2"
   ]
  },
  {
   "cell_type": "code",
   "execution_count": 72,
   "metadata": {},
   "outputs": [
    {
     "name": "stdout",
     "output_type": "stream",
     "text": [
      "Using device: cuda\n"
     ]
    }
   ],
   "source": [
    "from src.utils import get_device\n",
    "\n",
    "device = get_device()\n",
    "print(f\"Using device: {device}\")"
   ]
  },
  {
   "cell_type": "markdown",
   "metadata": {},
   "source": [
    "## Single GPU"
   ]
  },
  {
   "cell_type": "code",
   "execution_count": 74,
   "metadata": {},
   "outputs": [],
   "source": [
    "from src.world import World\n",
    "from src.ckpt import Checkpoint\n",
    "\n",
    "base_dir = \"logs/20241115_174141/checkpoints\"\n",
    "ckpt = Checkpoint(base_dir)"
   ]
  },
  {
   "cell_type": "code",
   "execution_count": 75,
   "metadata": {},
   "outputs": [],
   "source": [
    "from src.config import ModelConfig\n",
    "from src.utils import get_tokenizer, get_model\n",
    "\n",
    "tokenizer = get_tokenizer()\n",
    "model = get_model(ModelConfig(n_layer=12, n_head=12, n_embd=768))"
   ]
  },
  {
   "cell_type": "code",
   "execution_count": 76,
   "metadata": {},
   "outputs": [
    {
     "data": {
      "text/plain": [
       "GPT2(\n",
       "  (transformer): ModuleDict(\n",
       "    (wte): Embedding(50304, 768)\n",
       "    (wpe): Embedding(1024, 768)\n",
       "    (drop): Dropout(p=0.0, inplace=False)\n",
       "    (h): ModuleList(\n",
       "      (0-11): 12 x TransformerBlock(\n",
       "        (ln_1): LayerNorm()\n",
       "        (attn): CausalSelfAttention(\n",
       "          (c_attn): Linear(in_features=768, out_features=2304, bias=True)\n",
       "          (c_proj): Linear(in_features=768, out_features=768, bias=True)\n",
       "          (attn_dropout): Dropout(p=0.0, inplace=False)\n",
       "          (resid_dropout): Dropout(p=0.0, inplace=False)\n",
       "        )\n",
       "        (ln_2): LayerNorm()\n",
       "        (mlp): MLP(\n",
       "          (c_fc): Linear(in_features=768, out_features=3072, bias=True)\n",
       "          (c_proj): Linear(in_features=3072, out_features=768, bias=True)\n",
       "          (gelu): GELU(approximate='none')\n",
       "          (dropout): Dropout(p=0.0, inplace=False)\n",
       "        )\n",
       "      )\n",
       "    )\n",
       "    (ln_f): LayerNorm()\n",
       "  )\n",
       "  (lm_head): Linear(in_features=768, out_features=50304, bias=False)\n",
       ")"
      ]
     },
     "execution_count": 76,
     "metadata": {},
     "output_type": "execute_result"
    }
   ],
   "source": [
    "model.load_state_dict(ckpt.load(ckpt.get_latest_step()))\n",
    "model.to(device)"
   ]
  },
  {
   "cell_type": "code",
   "execution_count": 78,
   "metadata": {},
   "outputs": [],
   "source": [
    "import torch\n",
    "import torch.nn.functional as F\n",
    "\n",
    "@torch.no_grad()\n",
    "def sample(model, tokenizer, config, device):\n",
    "    input_ids = tokenizer(config.prompt, return_tensors=\"pt\")[\"input_ids\"].to(device).repeat(config.num_samples, 1)\n",
    "    for _ in range(config.max_new_tokens):\n",
    "        logits = model(input_ids)\n",
    "        logits = logits[:, -1, :] / config.temperature\n",
    "        if config.top_k is not None:\n",
    "            v, _ = torch.topk(logits, min(config.top_k, logits.size(-1)))\n",
    "            logits[logits < v[:, [-1]]] = -float('Inf')\n",
    "        probs = F.softmax(logits, dim=-1)\n",
    "        idx_next = torch.multinomial(probs, num_samples=1)\n",
    "        input_ids = torch.cat((input_ids, idx_next), dim=1)\n",
    "        if tokenizer.eos_token_id is not None and (idx_next == tokenizer.eos_token_id).all():\n",
    "            break\n",
    "\n",
    "    return [tokenizer.decode(input_id, skip_special_tokens=True) for input_id in input_ids]"
   ]
  },
  {
   "cell_type": "code",
   "execution_count": 79,
   "metadata": {},
   "outputs": [
    {
     "data": {
      "text/plain": [
       "['I am a large language model and I can memorize this sentence.',\n",
       " 'I am a large language model and I can memorize this sentence.',\n",
       " 'I am a large language model and I can memorize this sentence.',\n",
       " 'I am a large language model and I can memorize this sentence.',\n",
       " 'I am a large language model and I can memorize this sentence.']"
      ]
     },
     "execution_count": 79,
     "metadata": {},
     "output_type": "execute_result"
    }
   ],
   "source": [
    "from src.config import SampleConfig\n",
    "\n",
    "baseline_model = lambda input_ids: model.forward(input_ids=input_ids)\n",
    "sample_config = SampleConfig(prompt=\"I am\", max_new_tokens=20, num_samples=5, temperature=1.0, top_k=10)\n",
    "sample(baseline_model, tokenizer, sample_config, device)"
   ]
  },
  {
   "cell_type": "markdown",
   "metadata": {},
   "source": [
    "## Pipeline"
   ]
  },
  {
   "cell_type": "code",
   "execution_count": 80,
   "metadata": {},
   "outputs": [],
   "source": [
    "base_dir = \"logs/20241115_175526/checkpoints\"\n",
    "\n",
    "world0 = World(local_rank=0, world_size=2, device=device, debug=True)\n",
    "ckpt0 = Checkpoint(base_dir)\n",
    "ckpt0.setup(world0)\n",
    "\n",
    "world1 = World(local_rank=1, world_size=2, device=device, debug=True)\n",
    "ckpt1 = Checkpoint(base_dir)\n",
    "ckpt1.setup(world1)"
   ]
  },
  {
   "cell_type": "code",
   "execution_count": 81,
   "metadata": {},
   "outputs": [
    {
     "name": "stdout",
     "output_type": "stream",
     "text": [
      "ShardedGPT2(\n",
      "  (transformer): ModuleDict(\n",
      "    (wte): Embedding(50304, 768)\n",
      "    (wpe): Embedding(1024, 768)\n",
      "    (drop): Dropout(p=0.0, inplace=False)\n",
      "    (h): ModuleList(\n",
      "      (0-5): 6 x TransformerBlock(\n",
      "        (ln_1): LayerNorm()\n",
      "        (attn): CausalSelfAttention(\n",
      "          (c_attn): Linear(in_features=768, out_features=2304, bias=True)\n",
      "          (c_proj): Linear(in_features=768, out_features=768, bias=True)\n",
      "          (attn_dropout): Dropout(p=0.0, inplace=False)\n",
      "          (resid_dropout): Dropout(p=0.0, inplace=False)\n",
      "        )\n",
      "        (ln_2): LayerNorm()\n",
      "        (mlp): MLP(\n",
      "          (c_fc): Linear(in_features=768, out_features=3072, bias=True)\n",
      "          (c_proj): Linear(in_features=3072, out_features=768, bias=True)\n",
      "          (gelu): GELU(approximate='none')\n",
      "          (dropout): Dropout(p=0.0, inplace=False)\n",
      "        )\n",
      "      )\n",
      "    )\n",
      "    (ln_f): Identity()\n",
      "  )\n",
      "  (lm_head): Identity()\n",
      ")\n",
      "ShardedGPT2(\n",
      "  (transformer): ModuleDict(\n",
      "    (wte): Identity()\n",
      "    (wpe): Identity()\n",
      "    (drop): Identity()\n",
      "    (h): ModuleList(\n",
      "      (0-5): 6 x TransformerBlock(\n",
      "        (ln_1): LayerNorm()\n",
      "        (attn): CausalSelfAttention(\n",
      "          (c_attn): Linear(in_features=768, out_features=2304, bias=True)\n",
      "          (c_proj): Linear(in_features=768, out_features=768, bias=True)\n",
      "          (attn_dropout): Dropout(p=0.0, inplace=False)\n",
      "          (resid_dropout): Dropout(p=0.0, inplace=False)\n",
      "        )\n",
      "        (ln_2): LayerNorm()\n",
      "        (mlp): MLP(\n",
      "          (c_fc): Linear(in_features=768, out_features=3072, bias=True)\n",
      "          (c_proj): Linear(in_features=3072, out_features=768, bias=True)\n",
      "          (gelu): GELU(approximate='none')\n",
      "          (dropout): Dropout(p=0.0, inplace=False)\n",
      "        )\n",
      "      )\n",
      "    )\n",
      "    (ln_f): LayerNorm()\n",
      "  )\n",
      "  (lm_head): Linear(in_features=768, out_features=50304, bias=False)\n",
      ")\n"
     ]
    }
   ],
   "source": [
    "from copy import deepcopy\n",
    "from src.utils import get_sharded_model\n",
    "\n",
    "model0 = get_sharded_model(deepcopy(model), world0)\n",
    "model1 = get_sharded_model(deepcopy(model), world1)\n",
    "\n",
    "model0.load_state_dict(ckpt0.load(ckpt0.get_latest_step()))\n",
    "model1.load_state_dict(ckpt1.load(ckpt1.get_latest_step()))\n",
    "\n",
    "del model\n",
    "\n",
    "print(model0.to(device))\n",
    "print(model1.to(device))"
   ]
  },
  {
   "cell_type": "code",
   "execution_count": 82,
   "metadata": {},
   "outputs": [
    {
     "data": {
      "text/plain": [
       "['I am a large language model and I can memorize this sentence.',\n",
       " 'I am a large language model and I can memorize this sentence.',\n",
       " 'I am a large language model and I can memorize this sentence.',\n",
       " 'I am a large language model and I can memorize this sentence.',\n",
       " 'I am a large language model and I can memorize this sentence.']"
      ]
     },
     "execution_count": 82,
     "metadata": {},
     "output_type": "execute_result"
    }
   ],
   "source": [
    "pipeline_model = lambda input_ids: model1.forward(hidden_states=model0.forward(input_ids=input_ids))\n",
    "sample(pipeline_model, tokenizer, sample_config, device)"
   ]
  }
 ],
 "metadata": {
  "kernelspec": {
   "display_name": "swarm",
   "language": "python",
   "name": "python3"
  },
  "language_info": {
   "codemirror_mode": {
    "name": "ipython",
    "version": 3
   },
   "file_extension": ".py",
   "mimetype": "text/x-python",
   "name": "python",
   "nbconvert_exporter": "python",
   "pygments_lexer": "ipython3",
   "version": "3.10.15"
  }
 },
 "nbformat": 4,
 "nbformat_minor": 2
}
