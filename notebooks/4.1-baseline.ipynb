{
 "cells": [
  {
   "cell_type": "markdown",
   "metadata": {},
   "source": [
    "# 📈 Checkpointing\n",
    "\n",
    "This notebook shows how to train a model and load it from a checkpoint on a single GPU."
   ]
  },
  {
   "cell_type": "markdown",
   "metadata": {},
   "source": [
    "## Setup "
   ]
  },
  {
   "cell_type": "code",
   "execution_count": 1,
   "metadata": {},
   "outputs": [],
   "source": [
    "%load_ext autoreload\n",
    "%autoreload 2"
   ]
  },
  {
   "cell_type": "code",
   "execution_count": 2,
   "metadata": {},
   "outputs": [],
   "source": [
    "import autorootcwd"
   ]
  },
  {
   "cell_type": "code",
   "execution_count": 3,
   "metadata": {},
   "outputs": [],
   "source": [
    "from typing import List, Dict, Any\n",
    "\n",
    "from src.ckpt import Checkpoint\n",
    "from src.utils import get_device\n",
    "from src.train.baseline import sample"
   ]
  },
  {
   "cell_type": "code",
   "execution_count": 4,
   "metadata": {},
   "outputs": [],
   "source": [
    "device = get_device()"
   ]
  },
  {
   "cell_type": "markdown",
   "metadata": {
    "vscode": {
     "languageId": "plaintext"
    }
   },
   "source": [
    "## Local"
   ]
  },
  {
   "cell_type": "markdown",
   "metadata": {},
   "source": [
    "### LLama 2 (9M)"
   ]
  },
  {
   "cell_type": "code",
   "execution_count": 5,
   "metadata": {},
   "outputs": [
    {
     "name": "stdout",
     "output_type": "stream",
     "text": [
      "Loaded checkpointed model (9.8M parameters)\n"
     ]
    }
   ],
   "source": [
    "path = \"logs/20241112_180721/checkpoints\"\n",
    "ckpt = Checkpoint(path)\n",
    "model, tokenizer = ckpt.load(ckpt.get_latest_step())\n",
    "\n",
    "print(f\"Loaded checkpointed model ({model.num_parameters()/1e6:.1f}M parameters)\")"
   ]
  },
  {
   "cell_type": "code",
   "execution_count": 6,
   "metadata": {},
   "outputs": [
    {
     "name": "stdout",
     "output_type": "stream",
     "text": [
      "I am a large language model and I can memorize this sentence.\n"
     ]
    }
   ],
   "source": [
    "prompt = \"I am\"\n",
    "samples = sample(model, tokenizer, prompt, max_new_tokens=50, device=device)\n",
    "print(samples[0])"
   ]
  },
  {
   "cell_type": "markdown",
   "metadata": {},
   "source": [
    "### GPT2 (124M)"
   ]
  },
  {
   "cell_type": "code",
   "execution_count": 7,
   "metadata": {},
   "outputs": [
    {
     "name": "stdout",
     "output_type": "stream",
     "text": [
      "Loaded checkpointed model (124.4M parameters)\n"
     ]
    }
   ],
   "source": [
    "path = \"logs/20241112_180747/checkpoints\"\n",
    "ckpt = Checkpoint(path)\n",
    "model, tokenizer = ckpt.load(ckpt.get_latest_step())\n",
    "\n",
    "print(f\"Loaded checkpointed model ({model.num_parameters()/1e6:.1f}M parameters)\")"
   ]
  },
  {
   "cell_type": "code",
   "execution_count": 8,
   "metadata": {},
   "outputs": [
    {
     "name": "stdout",
     "output_type": "stream",
     "text": [
      "I am  a large language model and I can memorize this sentence.\n"
     ]
    }
   ],
   "source": [
    "prompt = \"I am\"\n",
    "samples = sample(model, tokenizer, prompt, max_new_tokens=50, device=device)\n",
    "print(samples[0])"
   ]
  },
  {
   "cell_type": "markdown",
   "metadata": {},
   "source": [
    "## W&B"
   ]
  },
  {
   "cell_type": "code",
   "execution_count": 9,
   "metadata": {},
   "outputs": [
    {
     "name": "stderr",
     "output_type": "stream",
     "text": [
      "\u001b[34m\u001b[1mwandb\u001b[0m: Using wandb-core as the SDK backend.  Please refer to https://wandb.me/wandb-core for more information.\n",
      "\u001b[34m\u001b[1mwandb\u001b[0m:   2 of 2 files downloaded.  \n"
     ]
    },
    {
     "name": "stdout",
     "output_type": "stream",
     "text": [
      "Loaded checkpointed model (9.8M parameters)\n"
     ]
    }
   ],
   "source": [
    "# Download an artifact from W&B\n",
    "path = \"logs/20241112_180721/checkpoints/from-wandb\"\n",
    "ckpt = Checkpoint(path)\n",
    "model, tokenizer = ckpt.load_from_artifact(\"mikasenghaas/swarm/model-100:v0\")\n",
    "\n",
    "print(f\"Loaded checkpointed model ({model.num_parameters()/1e6:.1f}M parameters)\")"
   ]
  },
  {
   "cell_type": "code",
   "execution_count": 10,
   "metadata": {},
   "outputs": [
    {
     "name": "stdout",
     "output_type": "stream",
     "text": [
      "Sample 1: I am a large language model and I can memorize this sentence.\n"
     ]
    }
   ],
   "source": [
    "prompt = \"I am\"\n",
    "samples = sample(model, tokenizer, prompt, max_new_tokens=50, device=device)\n",
    "for i, sample in enumerate(samples):\n",
    "    print(f\"Sample {i+1}: {sample}\")"
   ]
  }
 ],
 "metadata": {
  "kernelspec": {
   "display_name": "swarm",
   "language": "python",
   "name": "python3"
  },
  "language_info": {
   "codemirror_mode": {
    "name": "ipython",
    "version": 3
   },
   "file_extension": ".py",
   "mimetype": "text/x-python",
   "name": "python",
   "nbconvert_exporter": "python",
   "pygments_lexer": "ipython3",
   "version": "3.10.15"
  }
 },
 "nbformat": 4,
 "nbformat_minor": 2
}
